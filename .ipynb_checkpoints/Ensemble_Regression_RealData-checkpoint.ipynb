{
 "cells": [
  {
   "cell_type": "markdown",
   "metadata": {},
   "source": [
    "# Predictive Uncertainty Estimation using Deep Ensemble (Regression)\n",
    "\n",
    "## Dataset: Real dataset (Concrete Compressive Strength Dataset)\n",
    "\n",
    "This algorithm is implementation of paper [Simple and Scalable Predictive Uncertainty Estimation using Deep Ensembles](https://arxiv.org/abs/1612.01474). In this jupyter notebook, I will implement regression part of this paper using [Concrete Compressive Strength Dataset](https://archive.ics.uci.edu/ml/datasets/Concrete+Compressive+Strength)\n",
    "**5 networks** will be used for ensemble "
   ]
  },
  {
   "cell_type": "markdown",
   "metadata": {},
   "source": [
    "## Import Modules"
   ]
  },
  {
   "cell_type": "code",
   "execution_count": 1,
   "metadata": {},
   "outputs": [],
   "source": [
    "import tensorflow.compat.v1 as tf\n",
    "import numpy as np\n",
    "import matplotlib.pyplot as plt\n",
    "import pandas\n",
    "from sklearn.utils import shuffle"
   ]
  },
  {
   "cell_type": "markdown",
   "metadata": {},
   "source": [
    "## Parameters"
   ]
  },
  {
   "cell_type": "code",
   "execution_count": 3,
   "metadata": {},
   "outputs": [],
   "source": [
    "# Parameters of training\n",
    "Learning_rate = 0.0001\n",
    "epsilon = 1e-8\n",
    "\n",
    "num_iter = 10000\n",
    "batch_size = 256\n",
    "\n",
    "test_ratio = 0.05\n",
    "gpu_fraction = 0.5\n",
    "\n",
    "# Ensemble networks (5 networks)\n",
    "networks = ['network1', 'network2', 'network3', 'network4', 'network5']\n",
    "\n",
    "# Import Excel File\n",
    "data = pandas.read_excel('Concrete_Data.xls')\n",
    "column_names = data.columns\n",
    "\n",
    "num_rows = len(data)\n",
    "num_columns = len(column_names) \n",
    "num_data = num_columns - 1\n",
    "\n",
    "# Dense [input size, output size]\n",
    "dense1 = [num_data, 256]\n",
    "dense2 = [256, 512]\n",
    "dense3 = [512, 1024]\n",
    "dense_mu  = [1024, 1]\n",
    "dense_sig = [1024, 1]"
   ]
  },
  {
   "cell_type": "markdown",
   "metadata": {},
   "source": [
    "\n",
    "## Get Concrete Dataset\n",
    "\n",
    "The concrete dataset has `8 features` which are as follows\n",
    "- Cement\n",
    "- Blast Furnace Slag\n",
    "- Fly Ash \n",
    "- Superplasticizer\n",
    "- Coarse Aggregate\n",
    "- Fine Aggregate\n",
    "- Age (day)\n",
    "\n",
    "Also, it has `1 output`\n",
    "- Concrete Compressive Strength\n",
    "\n",
    "The example data is as follows\n",
    "<img src=\"./image/Concrete_dataset.PNG\" width=\"800\" alt=\"Concrete Dataset\" />"
   ]
  },
  {
   "cell_type": "code",
   "execution_count": 4,
   "metadata": {},
   "outputs": [
    {
     "name": "stdout",
     "output_type": "stream",
     "text": [
      "Train data shape: (927, 8)\n",
      "Test data shape: (103, 8)\n"
     ]
    }
   ],
   "source": [
    "data_x = np.zeros([num_rows, num_columns - 1])\n",
    "data_y = np.zeros([num_rows, 1])\n",
    "\n",
    "for i in range(num_rows):\n",
    "    for j in range(num_columns - 1):\n",
    "        data_x[i, j] = data[column_names[j]][i]\n",
    "    data_y[i,0] = data[column_names[-1]][i]\n",
    "\n",
    "num_train_data = int(num_rows * (1 - test_ratio))\n",
    "num_test_data  = num_rows - num_train_data\n",
    "\n",
    "train_x = data_x[:num_train_data, :]\n",
    "train_y = data_y[:num_train_data, :]\n",
    "test_x  = data_x[num_train_data:, :]\n",
    "test_y  = data_y[num_train_data:, :]\n",
    "\n",
    "print(\"Train data shape: \" + str(train_x.shape))\n",
    "print(\"Test data shape: \" + str(test_x.shape))"
   ]
  },
  {
   "cell_type": "markdown",
   "metadata": {},
   "source": [
    "## Functions"
   ]
  },
  {
   "cell_type": "code",
   "execution_count": 5,
   "metadata": {},
   "outputs": [],
   "source": [
    "tf.reset_default_graph()\n",
    "tf.compat.v1.disable_eager_execution()\n",
    "\n",
    "def weight_variable(name, shape):\n",
    "    return tf.get_variable(name, shape = shape, initializer = tf.keras.initializers.glorot_uniform(), dtype = tf.float64)\n",
    "\n",
    "def bias_variable(name, shape):\n",
    "    return tf.get_variable(name, shape = shape, initializer = tf.keras.initializers.glorot_uniform(), dtype = tf.float64)\n",
    "\n",
    "# Get networks\n",
    "def get_network(network_name):\n",
    "    input_x = tf.placeholder(tf.float64, shape = [None, num_data])\n",
    "    \n",
    "    with tf.variable_scope(network_name):\n",
    "        # Densely connect layer variables\n",
    "        w_fc1 = weight_variable(network_name + '_w_fc1', dense1)\n",
    "        b_fc1 = bias_variable(network_name + '_b_fc1', [dense1[1]])\n",
    "        \n",
    "        w_fc2 = weight_variable(network_name + '_w_fc2', dense2)\n",
    "        b_fc2 = bias_variable(network_name + '_b_fc2', [dense2[1]])\n",
    "\n",
    "        w_fc3 = weight_variable(network_name + '_w_fc3', dense3)\n",
    "        b_fc3 = bias_variable(network_name + '_b_fc3', [dense3[1]])\n",
    "        \n",
    "        w_fc_mu = weight_variable(network_name + '_w_fc_mu', dense_mu)\n",
    "        b_fc_mu = bias_variable(network_name + '_b_fc_mu', [dense_mu[1]])\n",
    "\n",
    "        w_fc_sig = weight_variable(network_name + '_w_fc_sig', dense_sig)\n",
    "        b_fc_sig = bias_variable(network_name + '_b_fc_sig', [dense_sig[1]])\n",
    "\n",
    "    # Network\n",
    "    fc1 = tf.nn.relu(tf.matmul(input_x, w_fc1) + b_fc1)\n",
    "    fc2 = tf.nn.relu(tf.matmul(fc1, w_fc2) + b_fc2)\n",
    "    fc3 = tf.nn.relu(tf.matmul(fc2, w_fc3) + b_fc3)\n",
    "    output_mu  = tf.matmul(fc3, w_fc_mu) + b_fc_mu\n",
    "    output_sig = tf.matmul(fc3, w_fc_sig) + b_fc_sig\n",
    "    output_sig_pos = tf.log(1 + tf.exp(output_sig)) + 1e-06\n",
    "    \n",
    "    y = tf.placeholder(tf.float64, shape = [None, 1])\n",
    "    \n",
    "    # Negative Log Likelihood(NLL) \n",
    "    loss = tf.reduce_mean(0.5*tf.log(output_sig_pos) + 0.5*tf.div(tf.square(y - output_mu),output_sig_pos)) + 5\n",
    "\n",
    "    # Get trainable variables\n",
    "    train_vars = tf.get_collection(tf.GraphKeys.TRAINABLE_VARIABLES, network_name) \n",
    "    \n",
    "    # Gradient clipping for preventing nan\n",
    "    optimizer = tf.train.AdamOptimizer(learning_rate = Learning_rate)\n",
    "    gvs = optimizer.compute_gradients(loss, var_list = train_vars)\n",
    "    capped_gvs = [(tf.clip_by_value(grad, -1., 1.), var) for grad, var in gvs]\n",
    "    train_opt = optimizer.apply_gradients(capped_gvs)\n",
    "\n",
    "    return input_x, y, output_mu, output_sig_pos, loss, train_opt, train_vars\n",
    "\n",
    "\n",
    "# Make batch data \n",
    "def making_batch(data_size, sample_size, data_x, data_y):\n",
    "    \n",
    "    # Making batches(testing)\n",
    "    batch_idx = np.random.choice(data_size, sample_size)\n",
    "    \n",
    "    batch_x = np.zeros([sample_size, num_data])\n",
    "    batch_y = np.zeros([sample_size, 1])\n",
    "        \n",
    "    for i in range(batch_idx.shape[0]):\n",
    "        batch_x[i,:] = data_x[batch_idx[i], :]\n",
    "        batch_y[i,:] = data_y[batch_idx[i], :] \n",
    "        \n",
    "    return batch_x, batch_y   "
   ]
  },
  {
   "cell_type": "markdown",
   "metadata": {},
   "source": [
    "## Initialize Ensemble Networks"
   ]
  },
  {
   "cell_type": "code",
   "execution_count": 6,
   "metadata": {},
   "outputs": [
    {
     "name": "stdout",
     "output_type": "stream",
     "text": [
      "WARNING:tensorflow:From C:\\Users\\Q\\anaconda3\\envs\\tf1\\lib\\site-packages\\tensorflow\\python\\util\\dispatch.py:1082: div (from tensorflow.python.ops.math_ops) is deprecated and will be removed in a future version.\n",
      "Instructions for updating:\n",
      "Deprecated in favor of operator or tf.math.divide.\n"
     ]
    }
   ],
   "source": [
    "x_list = []\n",
    "y_list = []\n",
    "output_mu_list = []\n",
    "output_sig_list = []\n",
    "loss_list = []\n",
    "train_list = []\n",
    "train_var_list = []\n",
    "output_test_list = []\n",
    "\n",
    "# Train each ensemble network\n",
    "for i in range(len(networks)):\n",
    "    x_input, y, output_mu, output_sig, loss, train_opt, train_vars = get_network(networks[i])\n",
    "\n",
    "    x_list.append(x_input)\n",
    "    y_list.append(y)\n",
    "    output_mu_list.append(output_mu)\n",
    "    output_sig_list.append(output_sig)\n",
    "    loss_list.append(loss)\n",
    "    train_list.append(train_opt)\n",
    "    train_var_list.append(train_vars)\n"
   ]
  },
  {
   "cell_type": "markdown",
   "metadata": {},
   "source": [
    "## Create Session"
   ]
  },
  {
   "cell_type": "code",
   "execution_count": 7,
   "metadata": {},
   "outputs": [],
   "source": [
    "# Create Session\n",
    "config = tf.ConfigProto()\n",
    "config.gpu_options.per_process_gpu_memory_fraction = gpu_fraction\n",
    "\n",
    "sess = tf.InteractiveSession(config=config)\n",
    "sess.run(tf.global_variables_initializer())"
   ]
  },
  {
   "cell_type": "markdown",
   "metadata": {},
   "source": [
    "## Training"
   ]
  },
  {
   "cell_type": "code",
   "execution_count": 8,
   "metadata": {
    "scrolled": false
   },
   "outputs": [
    {
     "name": "stdout",
     "output_type": "stream",
     "text": [
      "------------------------- Iteration: 500 -------------------------\n",
      "Average Loss(NLL): [4.38749008e+06 7.30932832e+05 7.81108889e+06 3.24984020e+01\n",
      " 1.47242114e+05]\n",
      "mu: [23.13490764 23.4222934  24.34981452 19.51711531 23.23073257]\n",
      "std: [6.62574151 5.98379048 7.4383051  6.37494537 6.66120222]\n",
      "Final mu: 22.730972689406286\n",
      "Final std: 6.839393265116228\n",
      "Real Value: [16.50398701]\n",
      "\n",
      "\n",
      "------------------------- Iteration: 1000 -------------------------\n",
      "Average Loss(NLL): [7.3953384  7.38682353 7.42431102 7.36828233 7.34038022]\n",
      "mu: [52.73832764 56.88492001 48.93404814 51.008206   51.69209032]\n",
      "std: [7.95132538 7.61319522 8.67509259 8.17578934 7.33534754]\n",
      "Final mu: 52.25151842165606\n",
      "Final std: 8.386443721459791\n",
      "Real Value: [38.21558625]\n",
      "\n",
      "\n",
      "------------------------- Iteration: 1500 -------------------------\n",
      "Average Loss(NLL): [7.26095386 7.23380517 7.33584663 7.26882834 7.20352023]\n",
      "mu: [33.74809379 30.07773079 29.33311514 31.53812505 31.93134641]\n",
      "std: [4.83591314 5.13071383 7.16347695 6.45760403 3.94736994]\n",
      "Final mu: 31.325682235752915\n",
      "Final std: 5.83293762469825\n",
      "Real Value: [23.8358748]\n",
      "\n",
      "\n",
      "------------------------- Iteration: 2000 -------------------------\n",
      "Average Loss(NLL): [7.26244667 7.17124896 7.24470593 7.15633021 7.17312227]\n",
      "mu: [19.51048532 18.81744274 21.63360657 21.37915749 21.9704447 ]\n",
      "std: [3.6478551  4.55409435 3.5698633  4.44047871 4.62500226]\n",
      "Final mu: 20.66222736625175\n",
      "Final std: 4.377163060210727\n",
      "Real Value: [15.42357812]\n",
      "\n",
      "\n",
      "------------------------- Iteration: 2500 -------------------------\n",
      "Average Loss(NLL): [7.15412214 7.1158488  7.14719373 7.11131288 7.09704343]\n",
      "mu: [41.00982301 48.10862567 43.42502505 41.23370785 42.26684429]\n",
      "std: [6.44998382 6.24611055 7.02339692 5.70981398 5.06142955]\n",
      "Final mu: 43.20880517516161\n",
      "Final std: 6.660978182016179\n",
      "Real Value: [43.79827342]\n",
      "\n",
      "\n",
      "------------------------- Iteration: 3000 -------------------------\n",
      "Average Loss(NLL): [7.09730804 7.09831295 7.10112604 7.06313062 7.0829775 ]\n",
      "mu: [34.17526272 38.1649424  32.2666224  33.55970907 36.05592059]\n",
      "std: [4.4002521  4.64774019 5.02216349 5.36143879 4.3998196 ]\n",
      "Final mu: 34.84449143803831\n",
      "Final std: 5.206268696624759\n",
      "Real Value: [32.96384756]\n",
      "\n",
      "\n",
      "------------------------- Iteration: 3500 -------------------------\n",
      "Average Loss(NLL): [7.10378948 7.11327464 7.07489093 7.12692264 7.08013343]\n",
      "mu: [18.35544881 25.32821451 20.91324117 22.86798319 22.82296767]\n",
      "std: [3.22693795 6.30336255 3.1370273  3.08063506 2.99288538]\n",
      "Final mu: 22.057571067634484\n",
      "Final std: 4.591057220712521\n",
      "Real Value: [19.98790924]\n",
      "\n",
      "\n",
      "------------------------- Iteration: 4000 -------------------------\n",
      "Average Loss(NLL): [7.07882946 7.08916561 7.02800411 7.1582395  7.03286545]\n",
      "mu: [51.00276908 49.41113349 52.84469432 49.99838896 53.86674585]\n",
      "std: [4.45203655 3.30346648 4.36568338 4.6344226  5.16175024]\n",
      "Final mu: 51.42474634164349\n",
      "Final std: 4.736265633518482\n",
      "Real Value: [45.30477848]\n",
      "\n",
      "\n",
      "------------------------- Iteration: 4500 -------------------------\n",
      "Average Loss(NLL): [7.02399135 7.09036011 6.97499013 7.07120024 7.10624549]\n",
      "mu: [27.43173991 29.8032766  32.24968192 31.77879013 35.48531008]\n",
      "std: [4.48912771 5.50122354 4.84392187 7.54536213 6.13866489]\n",
      "Final mu: 31.349759727417002\n",
      "Final std: 6.392717676957577\n",
      "Real Value: [29.07313449]\n",
      "\n",
      "\n"
     ]
    }
   ],
   "source": [
    "# Set parameters for printing and testing\n",
    "num_print = 500\n",
    "test_size = 10\n",
    "\n",
    "train_data_num = train_x.shape[0]\n",
    "test_data_num  = test_x.shape[0]\n",
    "\n",
    "loss_train = np.zeros([len(networks)])\n",
    "out_mu     = np.zeros([test_size, len(networks)])\n",
    "out_sig    = np.zeros([test_size, len(networks)])\n",
    "\n",
    "for iter in range(num_iter):\n",
    "    # Making batches(testing)\n",
    "    batch_x_test, batch_y_test = making_batch(test_data_num, test_size, test_x, test_y)\n",
    "        \n",
    "    for i in range(len(networks)):\n",
    "        # Making batches(training)\n",
    "        batch_x, batch_y = making_batch(train_data_num, batch_size, train_x, train_y)\n",
    "       \n",
    "        # Training\n",
    "        _, loss, mu, sig = sess.run([train_list[i], loss_list[i], output_mu_list[i], output_sig_list[i]], \n",
    "                                               feed_dict = {x_list[i]: batch_x, y_list[i]: batch_y})\n",
    "  \n",
    "      \n",
    "        # Testing\n",
    "        loss_test, mu_test, sig_test = sess.run([loss_list[i], output_mu_list[i], output_sig_list[i]], \n",
    "                                    feed_dict = {x_list[i]: batch_x_test, y_list[i]: batch_y_test})\n",
    "\n",
    "        if np.any(np.isnan(loss)):\n",
    "            raise ValueError('There is Nan in loss')\n",
    "        \n",
    "        loss_train[i] += loss\n",
    "        out_mu[:, i] = np.reshape(mu_test, (test_size))\n",
    "        out_sig[:, i] = np.reshape(sig_test, (test_size))\n",
    "        \n",
    "    # Get final test result\n",
    "    out_mu_final = np.mean(out_mu, axis = 1)\n",
    "    out_sig_final = np.sqrt(np.mean(out_sig, axis=1) + np.mean(np.square(out_mu), axis = 1) - np.square(out_mu_final))\n",
    "    \n",
    "    if iter % num_print == 0 and iter != 0:\n",
    "        print(('-------------------------') + ' Iteration: ' + str(iter) + ' -------------------------')\n",
    "        print('Average Loss(NLL): ' + str(loss_train / num_print))\n",
    "        print('mu: ' + str(out_mu[0, :]))\n",
    "        print('std: ' + str(np.sqrt(out_sig[0, :])))\n",
    "        print('Final mu: ' + str(out_mu_final[0]))\n",
    "        print('Final std: ' + str(out_sig_final[0]))\n",
    "        print('Real Value: ' + str(batch_y_test[0]))\n",
    "        print('\\n')\n",
    "        \n",
    "        loss_train = np.zeros(len(networks))\n"
   ]
  },
  {
   "cell_type": "markdown",
   "metadata": {},
   "source": [
    "## Testing with Known and Unknown Data"
   ]
  },
  {
   "cell_type": "code",
   "execution_count": 10,
   "metadata": {},
   "outputs": [
    {
     "data": {
      "image/png": "[encoded data removed]",
      "text/plain": [
       "<Figure size 432x288 with 1 Axes>"
      ]
     },
     "metadata": {
      "needs_background": "light"
     },
     "output_type": "display_data"
    },
    {
     "data": {
      "image/png": "[encoded data removed]",
      "text/plain": [
       "<Figure size 432x288 with 1 Axes>"
      ]
     },
     "metadata": {
      "needs_background": "light"
     },
     "output_type": "display_data"
    }
   ],
   "source": [
    "# Get Unknown dataset and test \n",
    "x_sample = np.random.randint(0, 50, size = (test_size,num_data))\n",
    "\n",
    "out_mu_sample  = np.zeros([test_size, len(networks)])\n",
    "out_sig_sample = np.zeros([test_size, len(networks)])\n",
    "\n",
    "for i in range(len(networks)):\n",
    "    mu_sample, sig_sample = sess.run([output_mu_list[i], output_sig_list[i]], \n",
    "                                      feed_dict = {x_list[i]: x_sample})\n",
    "\n",
    "    out_mu_sample[:,i]  = np.reshape(mu_sample, (test_size))\n",
    "    out_sig_sample[:,i] = np.reshape(sig_sample, (test_size))\n",
    "\n",
    "out_mu_sample_final  = np.mean(out_mu_sample, axis = 1)\n",
    "out_sig_sample_final = np.sqrt(np.mean(out_sig_sample, axis=1) + np.mean(np.square(out_mu_sample), axis = 1) \n",
    "                               - np.square(out_mu_sample_final))\n",
    "\n",
    "# Plot mean and variable vs real data \n",
    "plt.figure(1)\n",
    "# plt.hold\n",
    "plt.plot(batch_y_test, 'bo')\n",
    "plt.plot(out_mu_final, 'ro')\n",
    "plt.vlines(x = np.arange(0, test_size), ymin = out_mu_final - out_sig_final, ymax = out_mu_final + out_sig_final, color = 'g', linewidth=2.0)\n",
    "plt.legend(['Real data', 'Mu', 'mu+-sig'], loc = 'best')\n",
    "plt.title('Ground Truth vs Prediction')\n",
    "plt.xlim([-1, 10])\n",
    "\n",
    "# Plot comparison of known sig and unknown sig\n",
    "plt.figure(2)\n",
    "# plt.hold\n",
    "plt.plot(out_sig_sample_final, 'bo')\n",
    "plt.plot(out_sig_final, 'ro')\n",
    "plt.legend(['Unknown Sig', 'Known Sig'], loc = 'best')\n",
    "plt.title('Unknown Sigma vs Known Sigma')\n",
    "plt.xlim([-1, 10])\n",
    "\n",
    "plt.show()"
   ]
  },
  {
   "cell_type": "code",
   "execution_count": null,
   "metadata": {},
   "outputs": [],
   "source": []
  }
 ],
 "metadata": {
  "anaconda-cloud": {},
  "kernelspec": {
   "display_name": "Python 3 (ipykernel)",
   "language": "python",
   "name": "python3"
  },
  "language_info": {
   "codemirror_mode": {
    "name": "ipython",
    "version": 3
   },
   "file_extension": ".py",
   "mimetype": "text/x-python",
   "name": "python",
   "nbconvert_exporter": "python",
   "pygments_lexer": "ipython3",
   "version": "3.7.13"
  }
 },
 "nbformat": 4,
 "nbformat_minor": 1
}
