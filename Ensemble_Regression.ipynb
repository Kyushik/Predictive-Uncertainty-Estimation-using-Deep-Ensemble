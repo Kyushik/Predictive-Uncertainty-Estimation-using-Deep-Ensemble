{
 "cells": [
  {
   "cell_type": "markdown",
   "metadata": {},
   "source": [
    "# Predictive Uncertainty Estimation using Deep Ensemble (Regression)\n",
    "\n",
    "This algorithm is implementation of paper [Simple and Scalable Predictive Uncertainty Estimation using Deep Ensembles](https://arxiv.org/abs/1612.01474). In this jupyter notebook, I will implement regression part of this paper using [Concrete Compressive Strength Dataset](https://archive.ics.uci.edu/ml/datasets/Concrete+Compressive+Strength)"
   ]
  },
  {
   "cell_type": "markdown",
   "metadata": {},
   "source": [
    "## Import Modules"
   ]
  },
  {
   "cell_type": "code",
   "execution_count": 1,
   "metadata": {
    "collapsed": true
   },
   "outputs": [],
   "source": [
    "import tensorflow as tf\n",
    "import numpy as np\n",
    "import matplotlib.pyplot as plt\n",
    "import os\n",
    "import scipy.io\n",
    "import cv2\n",
    "import random\n",
    "import pandas"
   ]
  },
  {
   "cell_type": "markdown",
   "metadata": {},
   "source": [
    "## Parameters"
   ]
  },
  {
   "cell_type": "code",
   "execution_count": 2,
   "metadata": {
    "collapsed": true
   },
   "outputs": [],
   "source": [
    "# Parameters of training\n",
    "Learning_rate = 0.00025\n",
    "epsilon = 1e-8\n",
    "\n",
    "num_iter = 5000\n",
    "batch_size = 128\n",
    "\n",
    "test_ratio = 0.1\n",
    "gpu_fraction = 0.5\n",
    "\n",
    "# Ensemble networks\n",
    "networks = ['network1', 'network2', 'network3', 'network4', 'network5']\n",
    "\n",
    "# Import Excel File\n",
    "data = pandas.read_excel('Concrete_Data.xls')\n",
    "column_names = data.columns\n",
    "\n",
    "num_rows = len(data)\n",
    "num_columns = len(column_names) \n",
    "num_data = num_columns - 1\n",
    "\n",
    "# Dense [input size, output size]\n",
    "dense1 = [num_data, 100]\n",
    "dense2 = [100, 100]\n",
    "dense_mu  = [100, 1]\n",
    "dense_sig = [100, 1]"
   ]
  },
  {
   "cell_type": "markdown",
   "metadata": {},
   "source": [
    "## Get Concrete Dataset"
   ]
  },
  {
   "cell_type": "code",
   "execution_count": 3,
   "metadata": {
    "collapsed": false
   },
   "outputs": [
    {
     "name": "stdout",
     "output_type": "stream",
     "text": [
      "Train data shape: (927, 8)\n",
      "Test data shape: (103, 8)\n"
     ]
    }
   ],
   "source": [
    "data_x = np.zeros([num_rows, num_columns - 1])\n",
    "data_y = np.zeros([num_rows, 1])\n",
    "\n",
    "for i in range(num_rows):\n",
    "    for j in range(num_columns - 1):\n",
    "        data_x[i, j] = data[column_names[j]][i]\n",
    "    data_y[i,0] = data[column_names[-1]][i]\n",
    "\n",
    "num_train_data = int(num_rows * (1 - test_ratio))\n",
    "num_test_data  = num_rows - num_train_data\n",
    "\n",
    "train_x = data_x[:num_train_data, :]\n",
    "train_y = data_y[:num_train_data, :]\n",
    "test_x  = data_x[num_train_data:, :]\n",
    "test_y  = data_y[num_train_data:, :]\n",
    "\n",
    "print(\"Train data shape: \" + str(train_x.shape))\n",
    "print(\"Test data shape: \" + str(test_x.shape))"
   ]
  },
  {
   "cell_type": "markdown",
   "metadata": {},
   "source": [
    "## Functions"
   ]
  },
  {
   "cell_type": "code",
   "execution_count": 4,
   "metadata": {
    "collapsed": false
   },
   "outputs": [],
   "source": [
    "tf.reset_default_graph()\n",
    "\n",
    "def weight_variable(name, shape):\n",
    "    return tf.get_variable(name, shape = shape, initializer = tf.contrib.layers.xavier_initializer())\n",
    "\n",
    "def bias_variable(name, shape):\n",
    "    return tf.get_variable(name, shape = shape, initializer = tf.contrib.layers.xavier_initializer())\n",
    "\n",
    "# Get networks\n",
    "def get_network(network_name):\n",
    "    input_x = tf.placeholder(tf.float32, shape = [None, num_data])\n",
    "    \n",
    "    with tf.variable_scope(network_name):\n",
    "        # Densely connect layer variables\n",
    "        w_fc1 = weight_variable(network_name + '_w_fc1', dense1)\n",
    "        b_fc1 = bias_variable(network_name + '_b_fc1', [dense1[1]])\n",
    "        \n",
    "        w_fc2 = weight_variable(network_name + '_w_fc2', dense2)\n",
    "        b_fc2 = bias_variable(network_name + '_b_fc2', [dense2[1]])\n",
    "        \n",
    "        w_fc_mu = weight_variable(network_name + '_w_fc_mu', dense_mu)\n",
    "        b_fc_mu = bias_variable(network_name + '_b_fc_mu', [dense_mu[1]])\n",
    "\n",
    "        w_fc_sig = weight_variable(network_name + '_w_fc_sig', dense_sig)\n",
    "        b_fc_sig = bias_variable(network_name + '_b_fc_sig', [dense_sig[1]])\n",
    "\n",
    "    # Network\n",
    "    fc1 = tf.nn.relu(tf.matmul(input_x, w_fc1) + b_fc1)\n",
    "    fc2 = tf.nn.relu(tf.matmul(fc1, w_fc2) + b_fc2)\n",
    "    output_mu  = tf.matmul(fc2, w_fc_mu) + b_fc_mu\n",
    "    output_sig = tf.matmul(fc2, w_fc_sig) + b_fc_sig\n",
    "    \n",
    "    y = tf.placeholder(tf.float32, shape = [None, 1])\n",
    "    \n",
    "    # Negative Log Likelihood(NLL) \n",
    "#     loss = tf.reduce_mean(tf.div(tf.log(tf.square(output_sig)), 2) + tf.div(tf.square(y - output_mu), 2 * tf.square(output_sig) + 1e-10)) \n",
    "    loss = tf.reduce_mean(tf.div(tf.log(tf.square(output_sig)), 2) + tf.div(tf.square(y - output_mu), 2 * tf.square(output_sig) + 1e-10)) \n",
    "\n",
    "    # Get trainable variables\n",
    "    train_vars = tf.get_collection(tf.GraphKeys.TRAINABLE_VARIABLES, network_name) \n",
    "    \n",
    "    train_opt = tf.train.AdamOptimizer(Learning_rate).minimize(loss, var_list = train_vars)\n",
    "    \n",
    "    return input_x, y, output_mu, output_sig, loss, train_opt, train_vars\n",
    "\n",
    "\n",
    "# Make batch data \n",
    "def making_batch(data_size, sample_size, data_x, data_y):\n",
    "    \n",
    "    # Making batches(testing)\n",
    "    batch_idx = np.random.choice(data_size, sample_size)\n",
    "    \n",
    "    batch_x = np.zeros([sample_size, num_data])\n",
    "    batch_y = np.zeros([sample_size, 1])\n",
    "        \n",
    "    for i in range(batch_idx.shape[0]):\n",
    "        batch_x[i,:] = data_x[batch_idx[i], :]\n",
    "        batch_y[i,:] = data_y[batch_idx[i], :] \n",
    "        \n",
    "    return batch_x, batch_y   "
   ]
  },
  {
   "cell_type": "markdown",
   "metadata": {},
   "source": [
    "## Initialize Ensemble Networks"
   ]
  },
  {
   "cell_type": "code",
   "execution_count": 5,
   "metadata": {
    "collapsed": false
   },
   "outputs": [],
   "source": [
    "x_list = []\n",
    "y_list = []\n",
    "output_mu_list = []\n",
    "output_sig_list = []\n",
    "loss_list = []\n",
    "train_list = []\n",
    "train_var_list = []\n",
    "\n",
    "# Train each ensemble network\n",
    "for i in range(len(networks)):\n",
    "    x_input, y, output_mu, output_sig, loss, train_opt, train_vars = get_network(networks[i])\n",
    "\n",
    "    x_list.append(x_input)\n",
    "    y_list.append(y)\n",
    "    output_mu_list.append(output_mu)\n",
    "    output_sig_list.append(output_sig)\n",
    "    loss_list.append(loss)\n",
    "    train_list.append(train_opt)\n",
    "    train_var_list.append(train_vars)\n"
   ]
  },
  {
   "cell_type": "markdown",
   "metadata": {},
   "source": [
    "## Create Session"
   ]
  },
  {
   "cell_type": "code",
   "execution_count": 6,
   "metadata": {
    "collapsed": true
   },
   "outputs": [],
   "source": [
    "# Create Session\n",
    "config = tf.ConfigProto()\n",
    "config.gpu_options.per_process_gpu_memory_fraction = gpu_fraction\n",
    "\n",
    "sess = tf.InteractiveSession(config=config)\n",
    "sess.run(tf.global_variables_initializer())"
   ]
  },
  {
   "cell_type": "markdown",
   "metadata": {},
   "source": [
    "## Training"
   ]
  },
  {
   "cell_type": "code",
   "execution_count": 8,
   "metadata": {
    "collapsed": false,
    "scrolled": true
   },
   "outputs": [
    {
     "name": "stdout",
     "output_type": "stream",
     "text": [
      "------------------------- Iteration: 100 -------------------------\n",
      "Average Loss(NLL): [ 5.72897389  5.17768682  5.82681759  4.28654823  5.46311496]\n",
      "17.3536041737\n",
      "46038.7768427\n",
      "[ 52.82696164]\n",
      "\n",
      "\n",
      "------------------------- Iteration: 200 -------------------------\n",
      "Average Loss(NLL): [ 5.60411545  5.11667846  5.76882472  4.10027392  5.39878491]\n",
      "14.2268810749\n",
      "43609.3591583\n",
      "[ 41.54230795]\n",
      "\n",
      "\n",
      "------------------------- Iteration: 300 -------------------------\n",
      "Average Loss(NLL): [ 5.50474209  5.10688853  5.76732743  4.00469336  5.38891404]\n",
      "12.2560874939\n",
      "41553.1356283\n",
      "[ 33.39959639]\n",
      "\n",
      "\n",
      "------------------------- Iteration: 400 -------------------------\n",
      "Average Loss(NLL): [ 5.34824973  5.09637959  5.7671202   3.9220329   5.37609635]\n",
      "15.0874347687\n",
      "37782.8637372\n",
      "[ 37.43165204]\n",
      "\n",
      "\n",
      "------------------------- Iteration: 500 -------------------------\n",
      "Average Loss(NLL): [ 5.03759049  5.08700925  5.76459293  3.83983398  5.36208223]\n",
      "11.9280004501\n",
      "39210.9609666\n",
      "[ 38.46103971]\n",
      "\n",
      "\n",
      "------------------------- Iteration: 600 -------------------------\n",
      "Average Loss(NLL): [ 4.76257367  5.07861246  5.76379155  3.69287804  5.35017485]\n",
      "13.9921693802\n",
      "33357.4596167\n",
      "[ 43.57833058]\n",
      "\n",
      "\n",
      "------------------------- Iteration: 700 -------------------------\n",
      "Average Loss(NLL): [ 4.69230722  5.06899951  5.76167452  3.52042283  5.32982389]\n",
      "10.4388052225\n",
      "32839.3008566\n",
      "[ 31.1787942]\n",
      "\n",
      "\n",
      "------------------------- Iteration: 800 -------------------------\n",
      "Average Loss(NLL): [ 4.59928033  5.05498626  5.7581848   3.34020225  5.3057679 ]\n",
      "5.35141835213\n",
      "34603.6213688\n",
      "[ 12.4595208]\n",
      "\n",
      "\n",
      "------------------------- Iteration: 900 -------------------------\n",
      "Average Loss(NLL): [ 4.57347452  5.0471903   5.75346082  3.14800644  5.27060093]\n",
      "4.77574715614\n",
      "27440.7335102\n",
      "[ 26.23318285]\n",
      "\n",
      "\n",
      "------------------------- Iteration: 1000 -------------------------\n",
      "Average Loss(NLL): [ 5.79350656  5.03106932  5.74746524  3.02446991  5.22809719]\n",
      "20.3679544449\n",
      "67516.3165814\n",
      "[ 33.798803]\n",
      "\n",
      "\n",
      "------------------------- Iteration: 1100 -------------------------\n",
      "Average Loss(NLL): [ 6.09570539  5.02273662  5.73170043  2.95051348  4.84138635]\n",
      "19.8842827797\n",
      "58737.8566288\n",
      "[ 33.39959639]\n",
      "\n",
      "\n",
      "------------------------- Iteration: 1200 -------------------------\n",
      "Average Loss(NLL): [ 6.09251912  5.00262154  5.6929493   2.89392579  4.67210409]\n",
      "18.207215941\n",
      "67221.7058413\n",
      "[ 26.92265885]\n",
      "\n",
      "\n"
     ]
    },
    {
     "ename": "KeyboardInterrupt",
     "evalue": "",
     "output_type": "error",
     "traceback": [
      "\u001b[0;31m---------------------------------------------------------------------------\u001b[0m",
      "\u001b[0;31mKeyboardInterrupt\u001b[0m                         Traceback (most recent call last)",
      "\u001b[0;32m<ipython-input-8-e898309b5ea0>\u001b[0m in \u001b[0;36m<module>\u001b[0;34m()\u001b[0m\n\u001b[1;32m     20\u001b[0m         \u001b[1;31m# Training\u001b[0m\u001b[1;33m\u001b[0m\u001b[1;33m\u001b[0m\u001b[0m\n\u001b[1;32m     21\u001b[0m         _, loss, mu, sig = sess.run([train_list[i], loss_list[i], output_mu_list[i], output_sig_list[i]], \n\u001b[0;32m---> 22\u001b[0;31m                                  feed_dict = {x_list[i]: batch_x, y_list[i]: batch_y})\n\u001b[0m\u001b[1;32m     23\u001b[0m \u001b[1;33m\u001b[0m\u001b[0m\n\u001b[1;32m     24\u001b[0m \u001b[1;33m\u001b[0m\u001b[0m\n",
      "\u001b[0;32mC:\\Users\\Q\\Anaconda3\\lib\\site-packages\\tensorflow\\python\\client\\session.py\u001b[0m in \u001b[0;36mrun\u001b[0;34m(self, fetches, feed_dict, options, run_metadata)\u001b[0m\n\u001b[1;32m    893\u001b[0m     \u001b[1;32mtry\u001b[0m\u001b[1;33m:\u001b[0m\u001b[1;33m\u001b[0m\u001b[0m\n\u001b[1;32m    894\u001b[0m       result = self._run(None, fetches, feed_dict, options_ptr,\n\u001b[0;32m--> 895\u001b[0;31m                          run_metadata_ptr)\n\u001b[0m\u001b[1;32m    896\u001b[0m       \u001b[1;32mif\u001b[0m \u001b[0mrun_metadata\u001b[0m\u001b[1;33m:\u001b[0m\u001b[1;33m\u001b[0m\u001b[0m\n\u001b[1;32m    897\u001b[0m         \u001b[0mproto_data\u001b[0m \u001b[1;33m=\u001b[0m \u001b[0mtf_session\u001b[0m\u001b[1;33m.\u001b[0m\u001b[0mTF_GetBuffer\u001b[0m\u001b[1;33m(\u001b[0m\u001b[0mrun_metadata_ptr\u001b[0m\u001b[1;33m)\u001b[0m\u001b[1;33m\u001b[0m\u001b[0m\n",
      "\u001b[0;32mC:\\Users\\Q\\Anaconda3\\lib\\site-packages\\tensorflow\\python\\client\\session.py\u001b[0m in \u001b[0;36m_run\u001b[0;34m(self, handle, fetches, feed_dict, options, run_metadata)\u001b[0m\n\u001b[1;32m   1122\u001b[0m     \u001b[1;32mif\u001b[0m \u001b[0mfinal_fetches\u001b[0m \u001b[1;32mor\u001b[0m \u001b[0mfinal_targets\u001b[0m \u001b[1;32mor\u001b[0m \u001b[1;33m(\u001b[0m\u001b[0mhandle\u001b[0m \u001b[1;32mand\u001b[0m \u001b[0mfeed_dict_tensor\u001b[0m\u001b[1;33m)\u001b[0m\u001b[1;33m:\u001b[0m\u001b[1;33m\u001b[0m\u001b[0m\n\u001b[1;32m   1123\u001b[0m       results = self._do_run(handle, final_targets, final_fetches,\n\u001b[0;32m-> 1124\u001b[0;31m                              feed_dict_tensor, options, run_metadata)\n\u001b[0m\u001b[1;32m   1125\u001b[0m     \u001b[1;32melse\u001b[0m\u001b[1;33m:\u001b[0m\u001b[1;33m\u001b[0m\u001b[0m\n\u001b[1;32m   1126\u001b[0m       \u001b[0mresults\u001b[0m \u001b[1;33m=\u001b[0m \u001b[1;33m[\u001b[0m\u001b[1;33m]\u001b[0m\u001b[1;33m\u001b[0m\u001b[0m\n",
      "\u001b[0;32mC:\\Users\\Q\\Anaconda3\\lib\\site-packages\\tensorflow\\python\\client\\session.py\u001b[0m in \u001b[0;36m_do_run\u001b[0;34m(self, handle, target_list, fetch_list, feed_dict, options, run_metadata)\u001b[0m\n\u001b[1;32m   1319\u001b[0m     \u001b[1;32mif\u001b[0m \u001b[0mhandle\u001b[0m \u001b[1;32mis\u001b[0m \u001b[1;32mNone\u001b[0m\u001b[1;33m:\u001b[0m\u001b[1;33m\u001b[0m\u001b[0m\n\u001b[1;32m   1320\u001b[0m       return self._do_call(_run_fn, self._session, feeds, fetches, targets,\n\u001b[0;32m-> 1321\u001b[0;31m                            options, run_metadata)\n\u001b[0m\u001b[1;32m   1322\u001b[0m     \u001b[1;32melse\u001b[0m\u001b[1;33m:\u001b[0m\u001b[1;33m\u001b[0m\u001b[0m\n\u001b[1;32m   1323\u001b[0m       \u001b[1;32mreturn\u001b[0m \u001b[0mself\u001b[0m\u001b[1;33m.\u001b[0m\u001b[0m_do_call\u001b[0m\u001b[1;33m(\u001b[0m\u001b[0m_prun_fn\u001b[0m\u001b[1;33m,\u001b[0m \u001b[0mself\u001b[0m\u001b[1;33m.\u001b[0m\u001b[0m_session\u001b[0m\u001b[1;33m,\u001b[0m \u001b[0mhandle\u001b[0m\u001b[1;33m,\u001b[0m \u001b[0mfeeds\u001b[0m\u001b[1;33m,\u001b[0m \u001b[0mfetches\u001b[0m\u001b[1;33m)\u001b[0m\u001b[1;33m\u001b[0m\u001b[0m\n",
      "\u001b[0;32mC:\\Users\\Q\\Anaconda3\\lib\\site-packages\\tensorflow\\python\\client\\session.py\u001b[0m in \u001b[0;36m_do_call\u001b[0;34m(self, fn, *args)\u001b[0m\n\u001b[1;32m   1325\u001b[0m   \u001b[1;32mdef\u001b[0m \u001b[0m_do_call\u001b[0m\u001b[1;33m(\u001b[0m\u001b[0mself\u001b[0m\u001b[1;33m,\u001b[0m \u001b[0mfn\u001b[0m\u001b[1;33m,\u001b[0m \u001b[1;33m*\u001b[0m\u001b[0margs\u001b[0m\u001b[1;33m)\u001b[0m\u001b[1;33m:\u001b[0m\u001b[1;33m\u001b[0m\u001b[0m\n\u001b[1;32m   1326\u001b[0m     \u001b[1;32mtry\u001b[0m\u001b[1;33m:\u001b[0m\u001b[1;33m\u001b[0m\u001b[0m\n\u001b[0;32m-> 1327\u001b[0;31m       \u001b[1;32mreturn\u001b[0m \u001b[0mfn\u001b[0m\u001b[1;33m(\u001b[0m\u001b[1;33m*\u001b[0m\u001b[0margs\u001b[0m\u001b[1;33m)\u001b[0m\u001b[1;33m\u001b[0m\u001b[0m\n\u001b[0m\u001b[1;32m   1328\u001b[0m     \u001b[1;32mexcept\u001b[0m \u001b[0merrors\u001b[0m\u001b[1;33m.\u001b[0m\u001b[0mOpError\u001b[0m \u001b[1;32mas\u001b[0m \u001b[0me\u001b[0m\u001b[1;33m:\u001b[0m\u001b[1;33m\u001b[0m\u001b[0m\n\u001b[1;32m   1329\u001b[0m       \u001b[0mmessage\u001b[0m \u001b[1;33m=\u001b[0m \u001b[0mcompat\u001b[0m\u001b[1;33m.\u001b[0m\u001b[0mas_text\u001b[0m\u001b[1;33m(\u001b[0m\u001b[0me\u001b[0m\u001b[1;33m.\u001b[0m\u001b[0mmessage\u001b[0m\u001b[1;33m)\u001b[0m\u001b[1;33m\u001b[0m\u001b[0m\n",
      "\u001b[0;32mC:\\Users\\Q\\Anaconda3\\lib\\site-packages\\tensorflow\\python\\client\\session.py\u001b[0m in \u001b[0;36m_run_fn\u001b[0;34m(session, feed_dict, fetch_list, target_list, options, run_metadata)\u001b[0m\n\u001b[1;32m   1304\u001b[0m           return tf_session.TF_Run(session, options,\n\u001b[1;32m   1305\u001b[0m                                    \u001b[0mfeed_dict\u001b[0m\u001b[1;33m,\u001b[0m \u001b[0mfetch_list\u001b[0m\u001b[1;33m,\u001b[0m \u001b[0mtarget_list\u001b[0m\u001b[1;33m,\u001b[0m\u001b[1;33m\u001b[0m\u001b[0m\n\u001b[0;32m-> 1306\u001b[0;31m                                    status, run_metadata)\n\u001b[0m\u001b[1;32m   1307\u001b[0m \u001b[1;33m\u001b[0m\u001b[0m\n\u001b[1;32m   1308\u001b[0m     \u001b[1;32mdef\u001b[0m \u001b[0m_prun_fn\u001b[0m\u001b[1;33m(\u001b[0m\u001b[0msession\u001b[0m\u001b[1;33m,\u001b[0m \u001b[0mhandle\u001b[0m\u001b[1;33m,\u001b[0m \u001b[0mfeed_dict\u001b[0m\u001b[1;33m,\u001b[0m \u001b[0mfetch_list\u001b[0m\u001b[1;33m)\u001b[0m\u001b[1;33m:\u001b[0m\u001b[1;33m\u001b[0m\u001b[0m\n",
      "\u001b[0;31mKeyboardInterrupt\u001b[0m: "
     ]
    }
   ],
   "source": [
    "# Set parameters for printing and testing\n",
    "num_print = 100\n",
    "test_size = 10\n",
    "\n",
    "train_data_num = train_x.shape[0]\n",
    "test_data_num  = test_x.shape[0]\n",
    "\n",
    "loss_train = np.zeros([len(networks)])\n",
    "out_mu     = np.zeros([test_size, len(networks)])\n",
    "out_sig    = np.zeros([test_size, len(networks)])\n",
    "\n",
    "for iter in range(num_iter):\n",
    "    # Making batches(testing)\n",
    "    batch_x_test, batch_y_test = making_batch(test_data_num, test_size, test_x, test_y)\n",
    "        \n",
    "    for i in range(len(networks)):\n",
    "        # Making batches(training)\n",
    "        batch_x, batch_y = making_batch(train_data_num, batch_size, train_x, train_y)\n",
    "       \n",
    "        # Training\n",
    "        _, loss, mu, sig = sess.run([train_list[i], loss_list[i], output_mu_list[i], output_sig_list[i]], \n",
    "                                 feed_dict = {x_list[i]: batch_x, y_list[i]: batch_y})\n",
    "  \n",
    "      \n",
    "        # Testing\n",
    "        loss_test, mu_test, sig_test = sess.run([loss_list[i], output_mu_list[i], output_sig_list[i]], \n",
    "                                         feed_dict = {x_list[i]: batch_x_test, y_list[i]: batch_y_test})\n",
    "        \n",
    "     \n",
    "        loss_train[i] += loss\n",
    "        out_mu[:, i] = np.reshape(mu_test, (test_size))\n",
    "        out_sig[:, i] = np.reshape(sig_test, (test_size))\n",
    "        \n",
    "    # Get final test result\n",
    "    out_mu_final = np.mean(out_mu, axis = 1)\n",
    "    out_sig_final = np.mean(np.square(out_sig) + np.square(out_mu), axis = 1) - np.square(out_mu_final)\n",
    "    \n",
    "    if iter % num_print == 0 and iter != 0:\n",
    "        print(('-------------------------') + ' Iteration: ' + str(iter) + ' -------------------------')\n",
    "        print('Average Loss(NLL): ' + str(loss_train / num_print))\n",
    "        print(out_mu_final[0])\n",
    "        print(out_sig_final[0])\n",
    "        print(batch_y_test[0])\n",
    "#         print('Testing Accuracy: ' + str(acc_check_test / num_print))\n",
    "#         print('Final Testing Accuracy: ' + str(acc_check_test_final / num_print))\n",
    "        print('\\n')\n",
    "        \n",
    "        loss_train = np.zeros(len(networks))\n",
    "\n",
    "# plt.show()"
   ]
  },
  {
   "cell_type": "code",
   "execution_count": null,
   "metadata": {
    "collapsed": true
   },
   "outputs": [],
   "source": []
  }
 ],
 "metadata": {
  "anaconda-cloud": {},
  "kernelspec": {
   "display_name": "Python [conda root]",
   "language": "python",
   "name": "conda-root-py"
  },
  "language_info": {
   "codemirror_mode": {
    "name": "ipython",
    "version": 3
   },
   "file_extension": ".py",
   "mimetype": "text/x-python",
   "name": "python",
   "nbconvert_exporter": "python",
   "pygments_lexer": "ipython3",
   "version": "3.5.2"
  }
 },
 "nbformat": 4,
 "nbformat_minor": 1
}
