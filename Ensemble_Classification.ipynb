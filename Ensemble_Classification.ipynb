{
 "cells": [
  {
   "cell_type": "markdown",
   "metadata": {},
   "source": [
    "# Predictive Uncertainty Estimation using Deep Ensemble (Classification)\n",
    "\n",
    "This algorithm is implementation of paper [Simple and Scalable Predictive Uncertainty Estimation using Deep Ensembles](https://arxiv.org/abs/1612.01474). In this jupyter notebook, I will implement classification part of this paper using MNIST and notMNIST dataset. "
   ]
  },
  {
   "cell_type": "markdown",
   "metadata": {},
   "source": [
    "## Import Modules"
   ]
  },
  {
   "cell_type": "code",
   "execution_count": 1,
   "metadata": {
    "collapsed": true
   },
   "outputs": [],
   "source": [
    "import tensorflow as tf\n",
    "import numpy as np\n",
    "import matplotlib.pyplot as plt\n",
    "import os\n",
    "import scipy.io\n",
    "import cv2\n",
    "import random"
   ]
  },
  {
   "cell_type": "markdown",
   "metadata": {},
   "source": [
    "## Parameters"
   ]
  },
  {
   "cell_type": "code",
   "execution_count": 2,
   "metadata": {
    "collapsed": true
   },
   "outputs": [],
   "source": [
    "# Parameters of data\n",
    "img_size = 28\n",
    "img_flat_size = img_size * img_size\n",
    "\n",
    "num_label = 10 # 0 ~ 9\n",
    "\n",
    "# Parameters of training\n",
    "Learning_rate = 0.0005\n",
    "epsilon = 1e-8\n",
    "\n",
    "num_iter = 1000\n",
    "batch_size = 256\n",
    "\n",
    "validation_ratio = 0.1\n",
    "gpu_fraction = 0.5\n",
    "\n",
    "# Ensemble networks\n",
    "networks = ['network1', 'network2', 'network3', 'network4', 'network5']\n",
    "\n",
    "# Convolution [kernel size, kernel size, # input, # output]\n",
    "first_conv  = [3,3, 1,32]\n",
    "second_conv = [3,3,32,64]\n",
    "\n",
    "# Dense [input size, output size]\n",
    "first_dense  = [7*7*64, num_label]\n"
   ]
  },
  {
   "cell_type": "markdown",
   "metadata": {},
   "source": [
    "## Get MNIST Dataset"
   ]
  },
  {
   "cell_type": "code",
   "execution_count": 3,
   "metadata": {
    "collapsed": false
   },
   "outputs": [
    {
     "name": "stdout",
     "output_type": "stream",
     "text": [
      "Extracting MNIST_data\\train-images-idx3-ubyte.gz\n",
      "Extracting MNIST_data\\train-labels-idx1-ubyte.gz\n",
      "Extracting MNIST_data\\t10k-images-idx3-ubyte.gz\n",
      "Extracting MNIST_data\\t10k-labels-idx1-ubyte.gz\n",
      "\n",
      "Training X shape: (60000, 784)\n",
      "Testing X shape: (9000, 784)\n",
      "Validation X shape: (1000, 784)\n",
      "\n",
      "Training Y shape: (60000, 10)\n",
      "Testing Y shape: (9000, 10)\n",
      "Validation Y shape: (1000, 10)\n"
     ]
    }
   ],
   "source": [
    "# Import MNIST dataset\n",
    "from tensorflow.examples.tutorials.mnist import input_data\n",
    "mnist = input_data.read_data_sets('MNIST_data', validation_size=0)\n",
    "\n",
    "# Dataset for train, test, validation\n",
    "test_len = mnist.test.images.shape[0]\n",
    "validation_len = int(test_len * validation_ratio)\n",
    "\n",
    "train_x = mnist.train.images\n",
    "test_x = mnist.test.images[validation_len : test_len, :]\n",
    "validation_x = mnist.test.images[ : validation_len, :]\n",
    "\n",
    "train_y_index = mnist.train.labels\n",
    "test_y_index = mnist.test.labels[validation_len : test_len]\n",
    "validation_y_index = mnist.test.labels[ : validation_len]\n",
    "\n",
    "train_y = np.zeros([train_y_index.shape[0], num_label])\n",
    "test_y = np.zeros([test_y_index.shape[0], num_label])\n",
    "validation_y = np.zeros([validation_y_index.shape[0], num_label])\n",
    "\n",
    "for i in range(train_y.shape[0]):\n",
    "    train_y[i, train_y_index[i]] = 1\n",
    "\n",
    "for i in range(test_y.shape[0]):\n",
    "    test_y[i, test_y_index[i]] = 1\n",
    "    \n",
    "for i in range(validation_y.shape[0]):\n",
    "    validation_y[i, validation_y_index[i]] = 1\n",
    "    \n",
    "print(\"\\nTraining X shape: \" + str(train_x.shape))\n",
    "print(\"Testing X shape: \" + str(test_x.shape))\n",
    "print(\"Validation X shape: \" + str(validation_x.shape))\n",
    "\n",
    "print(\"\\nTraining Y shape: \" + str(train_y.shape))\n",
    "print(\"Testing Y shape: \" + str(test_y.shape))\n",
    "print(\"Validation Y shape: \" + str(validation_y.shape))"
   ]
  },
  {
   "cell_type": "markdown",
   "metadata": {},
   "source": [
    "## Get NotMNIST Dataset"
   ]
  },
  {
   "cell_type": "code",
   "execution_count": 4,
   "metadata": {
    "collapsed": false
   },
   "outputs": [
    {
     "name": "stdout",
     "output_type": "stream",
     "text": [
      "NotMNIST X shape: (18724, 784)\n",
      "NotMNIST Y shape: (18724, 10)\n"
     ]
    }
   ],
   "source": [
    "folders_notMNIST = os.listdir('./notMNIST_small')\n",
    "\n",
    "NotMNIST_x_list = []\n",
    "NotMNIST_y_list = []\n",
    "\n",
    "for idx, folder in enumerate(folders_notMNIST):\n",
    "    files_notMNIST = os.listdir('./notMNIST_small/' + folder)\n",
    "    \n",
    "    for file in files_notMNIST:\n",
    "        img_NotMNIST = cv2.imread('./notMNIST_small/' + folder + '/' + file, 0)\n",
    "        NotMNIST_flat = np.reshape(img_NotMNIST, (img_flat_size))\n",
    "        NotMNIST_x_list.append(NotMNIST_flat)\n",
    "        \n",
    "        label_temp = np.zeros([num_label])\n",
    "        label_temp[idx] = 1\n",
    "        \n",
    "        NotMNIST_y_list.append(label_temp)\n",
    "        \n",
    "NotMNIST_x = np.stack(NotMNIST_x_list, axis = 0)\n",
    "NotMNIST_y = np.stack(NotMNIST_y_list, axis = 0)\n",
    "\n",
    "print(\"NotMNIST X shape: \" + str(NotMNIST_x.shape))\n",
    "print(\"NotMNIST Y shape: \" + str(NotMNIST_y.shape))"
   ]
  },
  {
   "cell_type": "markdown",
   "metadata": {},
   "source": [
    "## Sample image of MNIST"
   ]
  },
  {
   "cell_type": "code",
   "execution_count": 5,
   "metadata": {
    "collapsed": false
   },
   "outputs": [
    {
     "data": {
      "image/png": "[encoded data removed]",
      "text/plain": [
       "<matplotlib.figure.Figure at 0xbb45908>"
      ]
     },
     "metadata": {},
     "output_type": "display_data"
    }
   ],
   "source": [
    "num_sample = 5\n",
    "\n",
    "MNIST_sample_index    = np.random.choice(train_x.shape[0], num_sample)\n",
    "\n",
    "# MNIST plotting\n",
    "f_Mnist, ax_Mnist = plt.subplots(1, num_sample)\n",
    "\n",
    "for i in range(num_sample):\n",
    "    img_MNIST = np.reshape(train_x[MNIST_sample_index[i]], (img_size, img_size))\n",
    "    ax_Mnist[i].imshow(img_MNIST, cmap='gray')\n",
    "    ax_Mnist[i].axis('off')\n",
    "\n",
    "plt.show()"
   ]
  },
  {
   "cell_type": "markdown",
   "metadata": {},
   "source": [
    "## Sample image of NotMNIST"
   ]
  },
  {
   "cell_type": "code",
   "execution_count": 6,
   "metadata": {
    "collapsed": false
   },
   "outputs": [
    {
     "data": {
      "image/png": "[encoded data removed]",
      "text/plain": [
       "<matplotlib.figure.Figure at 0xbb45898>"
      ]
     },
     "metadata": {},
     "output_type": "display_data"
    }
   ],
   "source": [
    "NotMNIST_sample_index = np.random.choice(NotMNIST_x.shape[0], num_sample)\n",
    "\n",
    "# NotMNIST plotting\n",
    "f_NotMnist, ax_NotMnist = plt.subplots(1, num_sample)\n",
    "\n",
    "for i in range(num_sample):\n",
    "    img_NotMNIST = np.reshape(NotMNIST_x[NotMNIST_sample_index[i]], (img_size, img_size))\n",
    "    ax_NotMnist[i].imshow(img_NotMNIST, cmap='gray')\n",
    "    ax_NotMnist[i].axis('off')\n",
    "\n",
    "plt.show()"
   ]
  },
  {
   "cell_type": "markdown",
   "metadata": {},
   "source": [
    "## Functions"
   ]
  },
  {
   "cell_type": "code",
   "execution_count": 38,
   "metadata": {
    "collapsed": false
   },
   "outputs": [],
   "source": [
    "tf.reset_default_graph()\n",
    "\n",
    "# function for conv2d\n",
    "def conv2d(x,w, stride):\n",
    "\treturn tf.nn.conv2d(x,w,strides=[1, stride, stride, 1], padding='SAME')\n",
    "\n",
    "# function for max pool\n",
    "def max_pool_2x2(x):\n",
    "    return tf.nn.max_pool(x, ksize=[1, 2, 2, 1], strides=[1, 2, 2, 1], padding='SAME')\n",
    "\n",
    "# Get Variables\n",
    "def conv_variable(name, shape):\n",
    "    return tf.get_variable(name, shape = shape, initializer = tf.contrib.layers.xavier_initializer_conv2d())\n",
    "\n",
    "def weight_variable(name, shape):\n",
    "    return tf.get_variable(name, shape = shape, initializer = tf.contrib.layers.xavier_initializer())\n",
    "\n",
    "def bias_variable(name, shape):\n",
    "    return tf.get_variable(name, shape = shape, initializer = tf.contrib.layers.xavier_initializer())\n",
    "\n",
    "# Get networks\n",
    "def get_network(network_name):\n",
    "    x_image = tf.placeholder(tf.float32, shape = [None, img_size, img_size, 1])\n",
    "    \n",
    "    with tf.variable_scope(network_name):\n",
    "        # Convolution variables\n",
    "        w_conv1 = conv_variable(network_name + '_w_conv1', first_conv)\n",
    "        b_conv1 = bias_variable(network_name + '_b_conv1', [first_conv[3]])\n",
    "\n",
    "        w_conv2 = conv_variable(network_name + '_w_conv2', second_conv)\n",
    "        b_conv2 = bias_variable(network_name + '_b_conv2', [second_conv[3]])\n",
    "\n",
    "        # Densely connect layer variables\n",
    "        w_fc1 = weight_variable(network_name + '_w_fc1', first_dense)\n",
    "        b_fc1 = bias_variable(network_name + '_b_fc1', [first_dense[1]])\n",
    "         \n",
    "\n",
    "    # Network\n",
    "    h_conv1 = tf.nn.relu(conv2d(x_image, w_conv1, 1) + b_conv1)\n",
    "    h_pool1 = max_pool_2x2(h_conv1)\n",
    "\n",
    "    h_conv2 = tf.nn.relu(conv2d(h_pool1, w_conv2, 1) + b_conv2)\n",
    "    h_pool2 = max_pool_2x2(h_conv2)\n",
    "    \n",
    "    h_pool2_flat = tf.reshape(h_pool2, [-1, first_dense[0]])\n",
    "    \n",
    "    logits = tf.matmul(h_pool2_flat, w_fc1) + b_fc1\n",
    "    output = tf.nn.softmax(logits)\n",
    "    \n",
    "    y_label = tf.placeholder(tf.float32, shape = [None, num_label])\n",
    "    \n",
    "    # Brier Score \n",
    "    loss = tf.reduce_mean(tf.div(tf.reduce_sum(tf.square(tf.subtract(output, y_label)), axis = 1), num_label), axis = 0) \n",
    "   \n",
    "    # Get trainable variables\n",
    "    train_vars = tf.get_collection(tf.GraphKeys.TRAINABLE_VARIABLES, network_name) \n",
    "    \n",
    "    train_opt = tf.train.AdamOptimizer(Learning_rate).minimize(loss, var_list = train_vars)\n",
    "    \n",
    "    return x_image, y_label, output, loss, train_opt, train_vars\n",
    "\n",
    "\n",
    "# Make batch data \n",
    "def making_batch(data_size, sample_size, data_x, data_y):\n",
    "    # Making batches(testing)\n",
    "    batch_idx = np.random.choice(data_size, sample_size)\n",
    "    \n",
    "    batch_x = np.zeros([sample_size, img_size, img_size, 1])\n",
    "    batch_y = np.zeros([sample_size, num_label])\n",
    "        \n",
    "    for i in range(batch_idx.shape[0]):\n",
    "        batch_x[i,:,:,:] = np.reshape(data_x[batch_idx[i], :], (img_size, img_size, 1))\n",
    "        batch_y[i,:]     = data_y[batch_idx[i], :] \n",
    "        \n",
    "    return batch_x, batch_y\n",
    "\n",
    "# Calculate Accuracy\n",
    "def get_accuracy(prediction, label):\n",
    "    count_correct = 0\n",
    "    for j in range(prediction.shape[0]):\n",
    "        if np.argmax(label[j, :]) == np.argmax(prediction[j, :]):\n",
    "            count_correct += 1.0\n",
    "    \n",
    "    acc = count_correct / label.shape[0]\n",
    "    return acc \n",
    "    "
   ]
  },
  {
   "cell_type": "markdown",
   "metadata": {},
   "source": [
    "## Initialize Ensemble Networks"
   ]
  },
  {
   "cell_type": "code",
   "execution_count": 39,
   "metadata": {
    "collapsed": false
   },
   "outputs": [],
   "source": [
    "x_list = []\n",
    "y_list = []\n",
    "output_list = []\n",
    "loss_list = []\n",
    "train_list = []\n",
    "train_var_list = []\n",
    "\n",
    "# Train each ensemble network\n",
    "for i in range(len(networks)):\n",
    "    x_image, y_label, output, loss, train_opt, train_vars = get_network(networks[i])\n",
    "\n",
    "    x_list.append(x_image)\n",
    "    y_list.append(y_label)\n",
    "    output_list.append(output)\n",
    "    loss_list.append(loss)\n",
    "    train_list.append(train_opt)\n",
    "    train_var_list.append(train_vars)\n"
   ]
  },
  {
   "cell_type": "markdown",
   "metadata": {},
   "source": [
    "## Create Session"
   ]
  },
  {
   "cell_type": "code",
   "execution_count": 40,
   "metadata": {
    "collapsed": true
   },
   "outputs": [],
   "source": [
    "# Create Session\n",
    "config = tf.ConfigProto()\n",
    "config.gpu_options.per_process_gpu_memory_fraction = gpu_fraction\n",
    "\n",
    "sess = tf.InteractiveSession(config=config)\n",
    "sess.run(tf.global_variables_initializer())"
   ]
  },
  {
   "cell_type": "markdown",
   "metadata": {},
   "source": [
    "## Training"
   ]
  },
  {
   "cell_type": "code",
   "execution_count": 41,
   "metadata": {
    "collapsed": false,
    "scrolled": true
   },
   "outputs": [
    {
     "name": "stdout",
     "output_type": "stream",
     "text": [
      "------------------------- Iteration: 100 -------------------------\n",
      "Average Loss(Brier score): [ 0.04981839  0.04990852  0.04902203  0.05019659  0.0512231 ]\n",
      "Training Accuracy: [ 0.67738281  0.65878906  0.67148438  0.67695313  0.66324219]\n",
      "Testing Accuracy: [ 0.7    0.679  0.684  0.676  0.67 ]\n",
      "Final Testing Accuracy: 0.7049999999999998\n",
      "\n",
      "\n",
      "------------------------- Iteration: 200 -------------------------\n",
      "Average Loss(Brier score): [ 0.0142778   0.01517709  0.01343741  0.01426871  0.01371196]\n",
      "Training Accuracy: [ 0.90804688  0.9015625   0.91429688  0.90800781  0.91222656]\n",
      "Testing Accuracy: [ 0.918  0.915  0.909  0.904  0.916]\n",
      "Final Testing Accuracy: 0.915\n",
      "\n",
      "\n",
      "------------------------- Iteration: 300 -------------------------\n",
      "Average Loss(Brier score): [ 0.00968387  0.01016312  0.00975022  0.01002112  0.00978127]\n",
      "Training Accuracy: [ 0.9390625   0.93558594  0.93832031  0.93660156  0.93855469]\n",
      "Testing Accuracy: [ 0.951  0.954  0.961  0.953  0.956]\n",
      "Final Testing Accuracy: 0.9540000000000005\n",
      "\n",
      "\n",
      "------------------------- Iteration: 400 -------------------------\n",
      "Average Loss(Brier score): [ 0.00772109  0.00759056  0.00725744  0.00788962  0.00780374]\n",
      "Training Accuracy: [ 0.95167969  0.95296875  0.95382813  0.95070312  0.95136719]\n",
      "Testing Accuracy: [ 0.962  0.959  0.961  0.96   0.953]\n",
      "Final Testing Accuracy: 0.9610000000000002\n",
      "\n",
      "\n",
      "------------------------- Iteration: 500 -------------------------\n",
      "Average Loss(Brier score): [ 0.00588303  0.00628125  0.00587167  0.00584465  0.00649058]\n",
      "Training Accuracy: [ 0.96375     0.96117188  0.9634375   0.96425781  0.96019531]\n",
      "Testing Accuracy: [ 0.968  0.966  0.972  0.974  0.969]\n",
      "Final Testing Accuracy: 0.9730000000000003\n",
      "\n",
      "\n",
      "------------------------- Iteration: 600 -------------------------\n",
      "Average Loss(Brier score): [ 0.00488507  0.00478604  0.00504922  0.00499756  0.00540225]\n",
      "Training Accuracy: [ 0.97039062  0.97015625  0.96964844  0.969375    0.96671875]\n",
      "Testing Accuracy: [ 0.961  0.966  0.97   0.965  0.963]\n",
      "Final Testing Accuracy: 0.9690000000000003\n",
      "\n",
      "\n",
      "------------------------- Iteration: 700 -------------------------\n",
      "Average Loss(Brier score): [ 0.00444288  0.00435713  0.00466947  0.00410339  0.0051008 ]\n",
      "Training Accuracy: [ 0.97300781  0.97304687  0.97105469  0.97582031  0.96773438]\n",
      "Testing Accuracy: [ 0.972  0.976  0.98   0.975  0.972]\n",
      "Final Testing Accuracy: 0.9790000000000002\n",
      "\n",
      "\n",
      "------------------------- Iteration: 800 -------------------------\n",
      "Average Loss(Brier score): [ 0.00370041  0.00377405  0.00389432  0.00386647  0.00448395]\n",
      "Training Accuracy: [ 0.97761719  0.97667969  0.97609375  0.97601563  0.97195312]\n",
      "Testing Accuracy: [ 0.972  0.975  0.974  0.977  0.973]\n",
      "Final Testing Accuracy: 0.9770000000000003\n",
      "\n",
      "\n",
      "------------------------- Iteration: 900 -------------------------\n",
      "Average Loss(Brier score): [ 0.0034653   0.00333766  0.003538    0.003832    0.00370552]\n",
      "Training Accuracy: [ 0.97914062  0.97945313  0.97753906  0.97613281  0.97695312]\n",
      "Testing Accuracy: [ 0.982  0.984  0.983  0.981  0.979]\n",
      "Final Testing Accuracy: 0.9830000000000001\n",
      "\n",
      "\n"
     ]
    }
   ],
   "source": [
    "# Initialize data for printing\n",
    "loss_check     = np.zeros(len(networks))\n",
    "acc_check      = np.zeros(len(networks))\n",
    "acc_check_test = np.zeros(len(networks))\n",
    "acc_check_test_final = 0\n",
    "\n",
    "# Set parameters for printing and testing\n",
    "num_print = 100\n",
    "test_size = 10\n",
    "\n",
    "train_data_num = train_x.shape[0]\n",
    "test_data_num  = test_x.shape[0]\n",
    "\n",
    "for iter in range(num_iter):\n",
    "    output_temp = np.zeros([test_size, num_label])\n",
    "\n",
    "    # Making batches(testing)\n",
    "    batch_x_test, batch_y_test = making_batch(test_data_num, test_size, test_x, test_y)\n",
    "        \n",
    "    for i in range(len(networks)):\n",
    "        # Making batches(training)\n",
    "        batch_x, batch_y = making_batch(train_data_num, batch_size, train_x, train_y)\n",
    "       \n",
    "        # Training\n",
    "        _, loss, prob = sess.run([train_list[i], loss_list[i], output_list[i]], \n",
    "                                 feed_dict = {x_list[i]: batch_x, y_list[i]: batch_y})\n",
    "        \n",
    "        # Testing\n",
    "        loss_test, prob_test = sess.run([loss_list[i], output_list[i]], \n",
    "                                         feed_dict = {x_list[i]: batch_x_test, y_list[i]: batch_y_test})\n",
    "        \n",
    "        # Add test prediction for get final prediction\n",
    "        output_temp += prob_test\n",
    "        \n",
    "        # Calculate Accuracy (Training)\n",
    "        acc_training = get_accuracy(prob, batch_y)\n",
    " \n",
    "        # Calculate Accuracy (testing)\n",
    "        acc_testing = get_accuracy(prob_test, batch_y_test)\n",
    "                \n",
    "        # Get accuracy and loss for each network\n",
    "        acc_check[i] += acc_training\n",
    "        acc_check_test[i] += acc_testing\n",
    "        loss_check[i] += loss\n",
    "    \n",
    "    # Get final test prediction\n",
    "    prob_test_final = output_temp / len(networks)\n",
    "    \n",
    "    # Calculate Accuracy (Testing final)\n",
    "    acc_testing_final = get_accuracy(prob_test_final, batch_y_test)\n",
    "    acc_check_test_final += acc_testing_final\n",
    "    \n",
    "    if iter % num_print == 0 and iter != 0:\n",
    "        print(('-------------------------') + ' Iteration: ' + str(iter) + ' -------------------------')\n",
    "        print('Average Loss(Brier score): ' + str(loss_check / num_print))\n",
    "        print('Training Accuracy: ' + str(acc_check / num_print))\n",
    "        print('Testing Accuracy: ' + str(acc_check_test / num_print))\n",
    "        print('Final Testing Accuracy: ' + str(acc_check_test_final / num_print))\n",
    "        print('\\n')\n",
    "        \n",
    "        loss_check = np.zeros(len(networks))\n",
    "        acc_check = np.zeros(len(networks))\n",
    "        acc_check_test = np.zeros(len(networks))\n",
    "        acc_check_test_final = 0\n",
    "\n",
    "plt.show()"
   ]
  },
  {
   "cell_type": "code",
   "execution_count": null,
   "metadata": {
    "collapsed": true
   },
   "outputs": [],
   "source": []
  }
 ],
 "metadata": {
  "anaconda-cloud": {},
  "kernelspec": {
   "display_name": "Python [conda root]",
   "language": "python",
   "name": "conda-root-py"
  },
  "language_info": {
   "codemirror_mode": {
    "name": "ipython",
    "version": 3
   },
   "file_extension": ".py",
   "mimetype": "text/x-python",
   "name": "python",
   "nbconvert_exporter": "python",
   "pygments_lexer": "ipython3",
   "version": "3.5.2"
  }
 },
 "nbformat": 4,
 "nbformat_minor": 1
}
